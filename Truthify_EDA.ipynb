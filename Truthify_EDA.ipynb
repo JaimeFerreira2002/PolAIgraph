{
  "cells": [
    {
      "cell_type": "markdown",
      "metadata": {
        "id": "iLdzjLXAv9P4"
      },
      "source": [
        "# Samsung Capstone EDA"
      ]
    },
    {
      "cell_type": "markdown",
      "metadata": {
        "id": "tnOQg1RbzUyr"
      },
      "source": [
        "Needed Imports"
      ]
    },
    {
      "cell_type": "code",
      "execution_count": 35,
      "metadata": {
        "colab": {
          "base_uri": "https://localhost:8080/"
        },
        "id": "SNGanYXPwJwR",
        "outputId": "ae722914-1fa3-45e6-a6b5-b9bbb5a2e414"
      },
      "outputs": [
        {
          "name": "stdout",
          "output_type": "stream",
          "text": [
            "Requirement already satisfied: category_encoders in /home/mrduarte/Documents/FCT/samsung/jupyter-env/lib/python3.12/site-packages (2.6.4)\n",
            "Requirement already satisfied: numpy>=1.14.0 in /home/mrduarte/Documents/FCT/samsung/jupyter-env/lib/python3.12/site-packages (from category_encoders) (2.0.2)\n",
            "Requirement already satisfied: scikit-learn>=0.20.0 in /home/mrduarte/Documents/FCT/samsung/jupyter-env/lib/python3.12/site-packages (from category_encoders) (1.5.2)\n",
            "Requirement already satisfied: scipy>=1.0.0 in /home/mrduarte/Documents/FCT/samsung/jupyter-env/lib/python3.12/site-packages (from category_encoders) (1.14.1)\n",
            "Requirement already satisfied: statsmodels>=0.9.0 in /home/mrduarte/Documents/FCT/samsung/jupyter-env/lib/python3.12/site-packages (from category_encoders) (0.14.4)\n",
            "Requirement already satisfied: pandas>=1.0.5 in /home/mrduarte/Documents/FCT/samsung/jupyter-env/lib/python3.12/site-packages (from category_encoders) (2.2.3)\n",
            "Requirement already satisfied: patsy>=0.5.1 in /home/mrduarte/Documents/FCT/samsung/jupyter-env/lib/python3.12/site-packages (from category_encoders) (1.0.1)\n",
            "Requirement already satisfied: python-dateutil>=2.8.2 in /home/mrduarte/Documents/FCT/samsung/jupyter-env/lib/python3.12/site-packages (from pandas>=1.0.5->category_encoders) (2.9.0.post0)\n",
            "Requirement already satisfied: pytz>=2020.1 in /home/mrduarte/Documents/FCT/samsung/jupyter-env/lib/python3.12/site-packages (from pandas>=1.0.5->category_encoders) (2024.2)\n",
            "Requirement already satisfied: tzdata>=2022.7 in /home/mrduarte/Documents/FCT/samsung/jupyter-env/lib/python3.12/site-packages (from pandas>=1.0.5->category_encoders) (2024.2)\n",
            "Requirement already satisfied: joblib>=1.2.0 in /home/mrduarte/Documents/FCT/samsung/jupyter-env/lib/python3.12/site-packages (from scikit-learn>=0.20.0->category_encoders) (1.4.2)\n",
            "Requirement already satisfied: threadpoolctl>=3.1.0 in /home/mrduarte/Documents/FCT/samsung/jupyter-env/lib/python3.12/site-packages (from scikit-learn>=0.20.0->category_encoders) (3.5.0)\n",
            "Requirement already satisfied: packaging>=21.3 in /home/mrduarte/Documents/FCT/samsung/jupyter-env/lib/python3.12/site-packages (from statsmodels>=0.9.0->category_encoders) (24.1)\n",
            "Requirement already satisfied: six>=1.5 in /home/mrduarte/Documents/FCT/samsung/jupyter-env/lib/python3.12/site-packages (from python-dateutil>=2.8.2->pandas>=1.0.5->category_encoders) (1.16.0)\n"
          ]
        }
      ],
      "source": [
        "!pip install category_encoders\n",
        "\n",
        "import pandas as pd\n",
        "import os\n",
        "pd.set_option('display.max_columns', None)\n",
        "import torch\n",
        "from IPython.core.interactiveshell import InteractiveShell\n",
        "InteractiveShell.ast_node_interactivity = 'all'\n",
        "\n",
        "# Ploting\n",
        "import matplotlib.pyplot as plt\n",
        "import seaborn as sns\n",
        "\n",
        "# Encoders\n",
        "from category_encoders import OneHotEncoder\n",
        "from sklearn.feature_extraction.text import TfidfVectorizer\n",
        "from sklearn.preprocessing import MinMaxScaler, LabelEncoder\n",
        "\n",
        "# Supervised Learning\n",
        "from sklearn.linear_model import LogisticRegression\n",
        "from sklearn.tree import DecisionTreeClassifier, plot_tree\n",
        "from sklearn.neighbors import KNeighborsClassifier\n",
        "from sklearn.naive_bayes import GaussianNB\n",
        "from sklearn.multiclass import OneVsRestClassifier, OneVsOneClassifier\n",
        "from sklearn.svm import SVC\n",
        "\n",
        "# Unsupervised Learning\n",
        "from sklearn.decomposition import PCA\n",
        "from sklearn.cluster import DBSCAN, KMeans, AgglomerativeClustering\n",
        "\n",
        "# Training Types and Metrics\n",
        "from sklearn.model_selection import GridSearchCV, KFold, train_test_split\n",
        "from sklearn.metrics import classification_report, f1_score, fbeta_score, make_scorer, ConfusionMatrixDisplay\n",
        "\n",
        "#Ensemble\n",
        "from sklearn.ensemble import RandomForestClassifier"
      ]
    },
    {
      "cell_type": "markdown",
      "metadata": {
        "id": "fDD8fHNfzLf-"
      },
      "source": [
        "## Fake News Classification"
      ]
    },
    {
      "cell_type": "code",
      "execution_count": 36,
      "metadata": {
        "colab": {
          "base_uri": "https://localhost:8080/",
          "height": 1000
        },
        "id": "JmK__HjNwaGM",
        "outputId": "8760d2af-8a04-4129-fd14-9f59f4997866"
      },
      "outputs": [
        {
          "data": {
            "text/html": [
              "<div>\n",
              "<style scoped>\n",
              "    .dataframe tbody tr th:only-of-type {\n",
              "        vertical-align: middle;\n",
              "    }\n",
              "\n",
              "    .dataframe tbody tr th {\n",
              "        vertical-align: top;\n",
              "    }\n",
              "\n",
              "    .dataframe thead th {\n",
              "        text-align: right;\n",
              "    }\n",
              "</style>\n",
              "<table border=\"1\" class=\"dataframe\">\n",
              "  <thead>\n",
              "    <tr style=\"text-align: right;\">\n",
              "      <th></th>\n",
              "      <th>author</th>\n",
              "      <th>published</th>\n",
              "      <th>title</th>\n",
              "      <th>text</th>\n",
              "      <th>language</th>\n",
              "      <th>site_url</th>\n",
              "      <th>main_img_url</th>\n",
              "      <th>type</th>\n",
              "      <th>label</th>\n",
              "      <th>title_without_stopwords</th>\n",
              "      <th>text_without_stopwords</th>\n",
              "      <th>hasImage</th>\n",
              "    </tr>\n",
              "  </thead>\n",
              "  <tbody>\n",
              "    <tr>\n",
              "      <th>0</th>\n",
              "      <td>Barracuda Brigade</td>\n",
              "      <td>2016-10-26T21:41:00.000+03:00</td>\n",
              "      <td>muslims busted they stole millions in govt ben...</td>\n",
              "      <td>print they should pay all the back all the mon...</td>\n",
              "      <td>english</td>\n",
              "      <td>100percentfedup.com</td>\n",
              "      <td>http://bb4sp.com/wp-content/uploads/2016/10/Fu...</td>\n",
              "      <td>bias</td>\n",
              "      <td>Real</td>\n",
              "      <td>muslims busted stole millions govt benefits</td>\n",
              "      <td>print pay back money plus interest entire fami...</td>\n",
              "      <td>1.0</td>\n",
              "    </tr>\n",
              "    <tr>\n",
              "      <th>1</th>\n",
              "      <td>reasoning with facts</td>\n",
              "      <td>2016-10-29T08:47:11.259+03:00</td>\n",
              "      <td>re why did attorney general loretta lynch plea...</td>\n",
              "      <td>why did attorney general loretta lynch plead t...</td>\n",
              "      <td>english</td>\n",
              "      <td>100percentfedup.com</td>\n",
              "      <td>http://bb4sp.com/wp-content/uploads/2016/10/Fu...</td>\n",
              "      <td>bias</td>\n",
              "      <td>Real</td>\n",
              "      <td>attorney general loretta lynch plead fifth</td>\n",
              "      <td>attorney general loretta lynch plead fifth bar...</td>\n",
              "      <td>1.0</td>\n",
              "    </tr>\n",
              "    <tr>\n",
              "      <th>2</th>\n",
              "      <td>Barracuda Brigade</td>\n",
              "      <td>2016-10-31T01:41:49.479+02:00</td>\n",
              "      <td>breaking weiner cooperating with fbi on hillar...</td>\n",
              "      <td>red state  \\nfox news sunday reported this mor...</td>\n",
              "      <td>english</td>\n",
              "      <td>100percentfedup.com</td>\n",
              "      <td>http://bb4sp.com/wp-content/uploads/2016/10/Fu...</td>\n",
              "      <td>bias</td>\n",
              "      <td>Real</td>\n",
              "      <td>breaking weiner cooperating fbi hillary email ...</td>\n",
              "      <td>red state fox news sunday reported morning ant...</td>\n",
              "      <td>1.0</td>\n",
              "    </tr>\n",
              "    <tr>\n",
              "      <th>3</th>\n",
              "      <td>Fed Up</td>\n",
              "      <td>2016-11-01T05:22:00.000+02:00</td>\n",
              "      <td>pin drop speech by father of daughter kidnappe...</td>\n",
              "      <td>email kayla mueller was a prisoner and torture...</td>\n",
              "      <td>english</td>\n",
              "      <td>100percentfedup.com</td>\n",
              "      <td>http://100percentfedup.com/wp-content/uploads/...</td>\n",
              "      <td>bias</td>\n",
              "      <td>Real</td>\n",
              "      <td>pin drop speech father daughter kidnapped kill...</td>\n",
              "      <td>email kayla mueller prisoner tortured isis cha...</td>\n",
              "      <td>1.0</td>\n",
              "    </tr>\n",
              "    <tr>\n",
              "      <th>4</th>\n",
              "      <td>Fed Up</td>\n",
              "      <td>2016-11-01T21:56:00.000+02:00</td>\n",
              "      <td>fantastic trumps  point plan to reform healthc...</td>\n",
              "      <td>email healthcare reform to make america great ...</td>\n",
              "      <td>english</td>\n",
              "      <td>100percentfedup.com</td>\n",
              "      <td>http://100percentfedup.com/wp-content/uploads/...</td>\n",
              "      <td>bias</td>\n",
              "      <td>Real</td>\n",
              "      <td>fantastic trumps point plan reform healthcare ...</td>\n",
              "      <td>email healthcare reform make america great sin...</td>\n",
              "      <td>1.0</td>\n",
              "    </tr>\n",
              "  </tbody>\n",
              "</table>\n",
              "</div>"
            ],
            "text/plain": [
              "                 author                      published  \\\n",
              "0     Barracuda Brigade  2016-10-26T21:41:00.000+03:00   \n",
              "1  reasoning with facts  2016-10-29T08:47:11.259+03:00   \n",
              "2     Barracuda Brigade  2016-10-31T01:41:49.479+02:00   \n",
              "3                Fed Up  2016-11-01T05:22:00.000+02:00   \n",
              "4                Fed Up  2016-11-01T21:56:00.000+02:00   \n",
              "\n",
              "                                               title  \\\n",
              "0  muslims busted they stole millions in govt ben...   \n",
              "1  re why did attorney general loretta lynch plea...   \n",
              "2  breaking weiner cooperating with fbi on hillar...   \n",
              "3  pin drop speech by father of daughter kidnappe...   \n",
              "4  fantastic trumps  point plan to reform healthc...   \n",
              "\n",
              "                                                text language  \\\n",
              "0  print they should pay all the back all the mon...  english   \n",
              "1  why did attorney general loretta lynch plead t...  english   \n",
              "2  red state  \\nfox news sunday reported this mor...  english   \n",
              "3  email kayla mueller was a prisoner and torture...  english   \n",
              "4  email healthcare reform to make america great ...  english   \n",
              "\n",
              "              site_url                                       main_img_url  \\\n",
              "0  100percentfedup.com  http://bb4sp.com/wp-content/uploads/2016/10/Fu...   \n",
              "1  100percentfedup.com  http://bb4sp.com/wp-content/uploads/2016/10/Fu...   \n",
              "2  100percentfedup.com  http://bb4sp.com/wp-content/uploads/2016/10/Fu...   \n",
              "3  100percentfedup.com  http://100percentfedup.com/wp-content/uploads/...   \n",
              "4  100percentfedup.com  http://100percentfedup.com/wp-content/uploads/...   \n",
              "\n",
              "   type label                            title_without_stopwords  \\\n",
              "0  bias  Real        muslims busted stole millions govt benefits   \n",
              "1  bias  Real         attorney general loretta lynch plead fifth   \n",
              "2  bias  Real  breaking weiner cooperating fbi hillary email ...   \n",
              "3  bias  Real  pin drop speech father daughter kidnapped kill...   \n",
              "4  bias  Real  fantastic trumps point plan reform healthcare ...   \n",
              "\n",
              "                              text_without_stopwords  hasImage  \n",
              "0  print pay back money plus interest entire fami...       1.0  \n",
              "1  attorney general loretta lynch plead fifth bar...       1.0  \n",
              "2  red state fox news sunday reported morning ant...       1.0  \n",
              "3  email kayla mueller prisoner tortured isis cha...       1.0  \n",
              "4  email healthcare reform make america great sin...       1.0  "
            ]
          },
          "execution_count": 36,
          "metadata": {},
          "output_type": "execute_result"
        },
        {
          "name": "stdout",
          "output_type": "stream",
          "text": [
            "<class 'pandas.core.frame.DataFrame'>\n",
            "RangeIndex: 2096 entries, 0 to 2095\n",
            "Data columns (total 12 columns):\n",
            " #   Column                   Non-Null Count  Dtype  \n",
            "---  ------                   --------------  -----  \n",
            " 0   author                   2096 non-null   object \n",
            " 1   published                2096 non-null   object \n",
            " 2   title                    2096 non-null   object \n",
            " 3   text                     2050 non-null   object \n",
            " 4   language                 2095 non-null   object \n",
            " 5   site_url                 2095 non-null   object \n",
            " 6   main_img_url             2095 non-null   object \n",
            " 7   type                     2095 non-null   object \n",
            " 8   label                    2095 non-null   object \n",
            " 9   title_without_stopwords  2094 non-null   object \n",
            " 10  text_without_stopwords   2046 non-null   object \n",
            " 11  hasImage                 2095 non-null   float64\n",
            "dtypes: float64(1), object(11)\n",
            "memory usage: 196.6+ KB\n",
            "Null values:\n"
          ]
        },
        {
          "data": {
            "text/plain": [
              "author                      0\n",
              "published                   0\n",
              "title                       0\n",
              "text                       46\n",
              "language                    1\n",
              "site_url                    1\n",
              "main_img_url                1\n",
              "type                        1\n",
              "label                       1\n",
              "title_without_stopwords     2\n",
              "text_without_stopwords     50\n",
              "hasImage                    1\n",
              "dtype: int64"
            ]
          },
          "execution_count": 36,
          "metadata": {},
          "output_type": "execute_result"
        },
        {
          "name": "stdout",
          "output_type": "stream",
          "text": [
            "Negative values:\n"
          ]
        },
        {
          "data": {
            "text/plain": [
              "hasImage    0\n",
              "dtype: int64"
            ]
          },
          "execution_count": 36,
          "metadata": {},
          "output_type": "execute_result"
        }
      ],
      "source": [
        "# Load datataset Fake News Classification\n",
        "## Repo Link\n",
        "#news_article=pd.read_csv('https://raw.githubusercontent.com/JaimeFerreira2002/Truthify/refs/heads/main/Datasets/news_articles.csv')\n",
        "## Locally/Codespaces\n",
        "news_article=pd.read_csv(os.path.join('Datasets','news_articles.csv'))\n",
        "\n",
        "news_article.head(5)\n",
        "news_article.info()\n",
        "print(\"Null values:\")\n",
        "news_article.isnull().sum()\n",
        "# drop all object type (strings), and check for any negative value\n",
        "print(\"Negative values:\")\n",
        "(news_article.select_dtypes(exclude=['object']) < 0).sum()"
      ]
    },
    {
      "cell_type": "markdown",
      "metadata": {
        "id": "AiGaEGV5z9Ca"
      },
      "source": [
        "## Politifact Fact Check"
      ]
    },
    {
      "cell_type": "code",
      "execution_count": 37,
      "metadata": {
        "colab": {
          "base_uri": "https://localhost:8080/",
          "height": 938
        },
        "id": "Zi2WhGKUzEV2",
        "outputId": "5c1ab51b-7048-4b45-f3c4-1d6e0b9aa74d"
      },
      "outputs": [
        {
          "data": {
            "text/html": [
              "<div>\n",
              "<style scoped>\n",
              "    .dataframe tbody tr th:only-of-type {\n",
              "        vertical-align: middle;\n",
              "    }\n",
              "\n",
              "    .dataframe tbody tr th {\n",
              "        vertical-align: top;\n",
              "    }\n",
              "\n",
              "    .dataframe thead th {\n",
              "        text-align: right;\n",
              "    }\n",
              "</style>\n",
              "<table border=\"1\" class=\"dataframe\">\n",
              "  <thead>\n",
              "    <tr style=\"text-align: right;\">\n",
              "      <th></th>\n",
              "      <th>verdict</th>\n",
              "      <th>statement_originator</th>\n",
              "      <th>statement</th>\n",
              "      <th>statement_date</th>\n",
              "      <th>statement_source</th>\n",
              "      <th>factchecker</th>\n",
              "      <th>factcheck_date</th>\n",
              "      <th>factcheck_analysis_link</th>\n",
              "    </tr>\n",
              "  </thead>\n",
              "  <tbody>\n",
              "    <tr>\n",
              "      <th>0</th>\n",
              "      <td>true</td>\n",
              "      <td>Barack Obama</td>\n",
              "      <td>John McCain opposed bankruptcy protections for...</td>\n",
              "      <td>6/11/2008</td>\n",
              "      <td>speech</td>\n",
              "      <td>Adriel Bettelheim</td>\n",
              "      <td>6/16/2008</td>\n",
              "      <td>https://www.politifact.com/factchecks/2008/jun...</td>\n",
              "    </tr>\n",
              "    <tr>\n",
              "      <th>1</th>\n",
              "      <td>false</td>\n",
              "      <td>Matt Gaetz</td>\n",
              "      <td>\"Bennie Thompson actively cheer-led riots in t...</td>\n",
              "      <td>6/7/2022</td>\n",
              "      <td>television</td>\n",
              "      <td>Yacob Reyes</td>\n",
              "      <td>6/13/2022</td>\n",
              "      <td>https://www.politifact.com/factchecks/2022/jun...</td>\n",
              "    </tr>\n",
              "    <tr>\n",
              "      <th>2</th>\n",
              "      <td>mostly-true</td>\n",
              "      <td>Kelly Ayotte</td>\n",
              "      <td>Says Maggie Hassan was \"out of state on 30 day...</td>\n",
              "      <td>5/18/2016</td>\n",
              "      <td>news</td>\n",
              "      <td>Clay Wirestone</td>\n",
              "      <td>5/27/2016</td>\n",
              "      <td>https://www.politifact.com/factchecks/2016/may...</td>\n",
              "    </tr>\n",
              "    <tr>\n",
              "      <th>3</th>\n",
              "      <td>false</td>\n",
              "      <td>Bloggers</td>\n",
              "      <td>\"BUSTED: CDC Inflated COVID Numbers, Accused o...</td>\n",
              "      <td>2/1/2021</td>\n",
              "      <td>blog</td>\n",
              "      <td>Madison Czopek</td>\n",
              "      <td>2/5/2021</td>\n",
              "      <td>https://www.politifact.com/factchecks/2021/feb...</td>\n",
              "    </tr>\n",
              "    <tr>\n",
              "      <th>4</th>\n",
              "      <td>half-true</td>\n",
              "      <td>Bobby Jindal</td>\n",
              "      <td>\"I'm the only (Republican) candidate that has ...</td>\n",
              "      <td>8/30/2015</td>\n",
              "      <td>television</td>\n",
              "      <td>Linda Qiu</td>\n",
              "      <td>8/30/2015</td>\n",
              "      <td>https://www.politifact.com/factchecks/2015/aug...</td>\n",
              "    </tr>\n",
              "  </tbody>\n",
              "</table>\n",
              "</div>"
            ],
            "text/plain": [
              "       verdict statement_originator  \\\n",
              "0         true         Barack Obama   \n",
              "1        false           Matt Gaetz   \n",
              "2  mostly-true         Kelly Ayotte   \n",
              "3        false             Bloggers   \n",
              "4    half-true         Bobby Jindal   \n",
              "\n",
              "                                           statement statement_date  \\\n",
              "0  John McCain opposed bankruptcy protections for...      6/11/2008   \n",
              "1  \"Bennie Thompson actively cheer-led riots in t...       6/7/2022   \n",
              "2  Says Maggie Hassan was \"out of state on 30 day...      5/18/2016   \n",
              "3  \"BUSTED: CDC Inflated COVID Numbers, Accused o...       2/1/2021   \n",
              "4  \"I'm the only (Republican) candidate that has ...      8/30/2015   \n",
              "\n",
              "  statement_source        factchecker factcheck_date  \\\n",
              "0           speech  Adriel Bettelheim      6/16/2008   \n",
              "1       television        Yacob Reyes      6/13/2022   \n",
              "2             news     Clay Wirestone      5/27/2016   \n",
              "3             blog     Madison Czopek       2/5/2021   \n",
              "4       television          Linda Qiu      8/30/2015   \n",
              "\n",
              "                             factcheck_analysis_link  \n",
              "0  https://www.politifact.com/factchecks/2008/jun...  \n",
              "1  https://www.politifact.com/factchecks/2022/jun...  \n",
              "2  https://www.politifact.com/factchecks/2016/may...  \n",
              "3  https://www.politifact.com/factchecks/2021/feb...  \n",
              "4  https://www.politifact.com/factchecks/2015/aug...  "
            ]
          },
          "execution_count": 37,
          "metadata": {},
          "output_type": "execute_result"
        },
        {
          "name": "stdout",
          "output_type": "stream",
          "text": [
            "<class 'pandas.core.frame.DataFrame'>\n",
            "RangeIndex: 21152 entries, 0 to 21151\n",
            "Data columns (total 8 columns):\n",
            " #   Column                   Non-Null Count  Dtype \n",
            "---  ------                   --------------  ----- \n",
            " 0   verdict                  21152 non-null  object\n",
            " 1   statement_originator     21152 non-null  object\n",
            " 2   statement                21152 non-null  object\n",
            " 3   statement_date           21152 non-null  object\n",
            " 4   statement_source         21152 non-null  object\n",
            " 5   factchecker              21152 non-null  object\n",
            " 6   factcheck_date           21152 non-null  object\n",
            " 7   factcheck_analysis_link  21152 non-null  object\n",
            "dtypes: object(8)\n",
            "memory usage: 1.3+ MB\n",
            "Null values:\n"
          ]
        },
        {
          "data": {
            "text/plain": [
              "verdict                    0\n",
              "statement_originator       0\n",
              "statement                  0\n",
              "statement_date             0\n",
              "statement_source           0\n",
              "factchecker                0\n",
              "factcheck_date             0\n",
              "factcheck_analysis_link    0\n",
              "dtype: int64"
            ]
          },
          "execution_count": 37,
          "metadata": {},
          "output_type": "execute_result"
        },
        {
          "name": "stdout",
          "output_type": "stream",
          "text": [
            "Negative values:\n"
          ]
        },
        {
          "data": {
            "text/plain": [
              "Series([], dtype: float64)"
            ]
          },
          "execution_count": 37,
          "metadata": {},
          "output_type": "execute_result"
        }
      ],
      "source": [
        "# Load datataset Politifact Fact Check Dataset\n",
        "## Repo Link\n",
        "#politifact=pd.read_csv('https://raw.githubusercontent.com/JaimeFerreira2002/Truthify/refs/heads/main/Datasets/politifact_factcheck_data.json')\n",
        "## Locally/Codespaces\n",
        "politifact=pd.read_json(os.path.join('Datasets','politifact_factcheck_data.json'), lines=True)\n",
        "\n",
        "politifact.head(5)\n",
        "politifact.info()\n",
        "print(\"Null values:\")\n",
        "politifact.isnull().sum()\n",
        "# drop all object type (strings), and check for any negative value\n",
        "print(\"Negative values:\")\n",
        "(politifact.select_dtypes(exclude=['object']) < 0).sum()"
      ]
    },
    {
      "cell_type": "code",
      "execution_count": 40,
      "metadata": {},
      "outputs": [
        {
          "data": {
            "text/plain": [
              "<Figure size 1000x400 with 0 Axes>"
            ]
          },
          "execution_count": 40,
          "metadata": {},
          "output_type": "execute_result"
        },
        {
          "name": "stderr",
          "output_type": "stream",
          "text": [
            "/tmp/ipykernel_486089/558601558.py:2: FutureWarning: \n",
            "\n",
            "Passing `palette` without assigning `hue` is deprecated and will be removed in v0.14.0. Assign the `x` variable to `hue` and set `legend=False` for the same effect.\n",
            "\n",
            "  sns.countplot(x='verdict', data=politifact, palette='pastel')\n"
          ]
        },
        {
          "data": {
            "text/plain": [
              "<Axes: xlabel='verdict', ylabel='count'>"
            ]
          },
          "execution_count": 40,
          "metadata": {},
          "output_type": "execute_result"
        },
        {
          "data": {
            "text/plain": [
              "Text(0.5, 1.0, 'Distribution of Real/Fake')"
            ]
          },
          "execution_count": 40,
          "metadata": {},
          "output_type": "execute_result"
        },
        {
          "data": {
            "text/plain": [
              "Text(0.5, 0, 'Number of news that are Real and Fake')"
            ]
          },
          "execution_count": 40,
          "metadata": {},
          "output_type": "execute_result"
        },
        {
          "data": {
            "text/plain": [
              "Text(0, 0.5, 'Count')"
            ]
          },
          "execution_count": 40,
          "metadata": {},
          "output_type": "execute_result"
        },
        {
          "data": {
            "image/png": "[encoded data removed]",
            "text/plain": [
              "<Figure size 1000x400 with 1 Axes>"
            ]
          },
          "metadata": {},
          "output_type": "display_data"
        },
        {
          "data": {
            "text/plain": [
              "<Figure size 2000x1000 with 0 Axes>"
            ]
          },
          "execution_count": 40,
          "metadata": {},
          "output_type": "execute_result"
        },
        {
          "name": "stderr",
          "output_type": "stream",
          "text": [
            "/tmp/ipykernel_486089/558601558.py:9: FutureWarning: \n",
            "\n",
            "Passing `palette` without assigning `hue` is deprecated and will be removed in v0.14.0. Assign the `x` variable to `hue` and set `legend=False` for the same effect.\n",
            "\n",
            "  sns.countplot(x='statement_source', data=politifact, palette='pastel')\n"
          ]
        },
        {
          "data": {
            "text/plain": [
              "<Axes: xlabel='statement_source', ylabel='count'>"
            ]
          },
          "execution_count": 40,
          "metadata": {},
          "output_type": "execute_result"
        },
        {
          "data": {
            "text/plain": [
              "Text(0.5, 1.0, 'Distribution of Statement Source')"
            ]
          },
          "execution_count": 40,
          "metadata": {},
          "output_type": "execute_result"
        },
        {
          "data": {
            "text/plain": [
              "Text(0.5, 0, 'Statement Source Type')"
            ]
          },
          "execution_count": 40,
          "metadata": {},
          "output_type": "execute_result"
        },
        {
          "data": {
            "text/plain": [
              "Text(0, 0.5, 'Count')"
            ]
          },
          "execution_count": 40,
          "metadata": {},
          "output_type": "execute_result"
        },
        {
          "data": {
            "image/png": "[encoded data removed]",
            "text/plain": [
              "<Figure size 2000x1000 with 1 Axes>"
            ]
          },
          "metadata": {},
          "output_type": "display_data"
        }
      ],
      "source": [
        "plt.figure(figsize=(10, 4))\n",
        "sns.countplot(x='verdict', data=politifact, palette='pastel')\n",
        "plt.title(\"Distribution of Real/Fake\")\n",
        "plt.xlabel(\"Number of news that are Real and Fake\")\n",
        "plt.ylabel(\"Count\")\n",
        "plt.show()\n",
        "\n",
        "plt.figure(figsize=(20, 10))\n",
        "sns.countplot(x='statement_source', data=politifact, palette='pastel')\n",
        "plt.title(\"Distribution of Statement Source\")\n",
        "plt.xlabel(\"Statement Source Type\")\n",
        "plt.ylabel(\"Count\")\n",
        "plt.show()"
      ]
    },
    {
      "cell_type": "markdown",
      "metadata": {
        "id": "kew7oZjG0MFL"
      },
      "source": [
        "## Snopes Fact-news Data"
      ]
    },
    {
      "cell_type": "code",
      "execution_count": 39,
      "metadata": {
        "colab": {
          "base_uri": "https://localhost:8080/",
          "height": 1000
        },
        "id": "ym3NKnfa0K6Z",
        "outputId": "677296d9-cfab-4b5c-95f0-8412b4f935f3"
      },
      "outputs": [
        {
          "data": {
            "text/html": [
              "<div>\n",
              "<style scoped>\n",
              "    .dataframe tbody tr th:only-of-type {\n",
              "        vertical-align: middle;\n",
              "    }\n",
              "\n",
              "    .dataframe tbody tr th {\n",
              "        vertical-align: top;\n",
              "    }\n",
              "\n",
              "    .dataframe thead th {\n",
              "        text-align: right;\n",
              "    }\n",
              "</style>\n",
              "<table border=\"1\" class=\"dataframe\">\n",
              "  <thead>\n",
              "    <tr style=\"text-align: right;\">\n",
              "      <th></th>\n",
              "      <th>question</th>\n",
              "      <th>comment</th>\n",
              "      <th>claim</th>\n",
              "      <th>rate</th>\n",
              "      <th>what's true</th>\n",
              "      <th>what's false</th>\n",
              "      <th>what's unknown</th>\n",
              "      <th>origin</th>\n",
              "      <th>summary</th>\n",
              "    </tr>\n",
              "  </thead>\n",
              "  <tbody>\n",
              "    <tr>\n",
              "      <th>0</th>\n",
              "      <td>Did Kamala Harris Support Abortion Until the T...</td>\n",
              "      <td>The Democratic vice-presidential candidate's p...</td>\n",
              "      <td>U.S. Sen. Kamala Harris, D-Calif., supports th...</td>\n",
              "      <td>Mixture</td>\n",
              "      <td>U.S. Sen. Kamala Harris, D-Calif, has maintain...</td>\n",
              "      <td>She has not explicitly stated that she support...</td>\n",
              "      <td>NaN</td>\n",
              "      <td>Debates surrounding abortion frequently resurf...</td>\n",
              "      <td>U.S. Sen. Kamala Harris, D-Calif., has been to...</td>\n",
              "    </tr>\n",
              "    <tr>\n",
              "      <th>1</th>\n",
              "      <td>Did Hitler Invent the Inflatable Sex Doll?</td>\n",
              "      <td>Nothing attracts curiosity like a lurid combin...</td>\n",
              "      <td>Adolf Hitler was behind the invention of the f...</td>\n",
              "      <td>False</td>\n",
              "      <td>NaN</td>\n",
              "      <td>NaN</td>\n",
              "      <td>NaN</td>\n",
              "      <td>In late July 2020, readers shared a 2016 blog ...</td>\n",
              "      <td>Readers shared a 2016 blog post with the headl...</td>\n",
              "    </tr>\n",
              "    <tr>\n",
              "      <th>2</th>\n",
              "      <td>Does Texting ‘RBG’ to 50409 Send a Letter to Y...</td>\n",
              "      <td>The automated political advocacy service Resis...</td>\n",
              "      <td>Texting \"RBG\" to 50409 engages a service calle...</td>\n",
              "      <td>True</td>\n",
              "      <td>NaN</td>\n",
              "      <td>NaN</td>\n",
              "      <td>NaN</td>\n",
              "      <td>In September 2020, following the death of U.S....</td>\n",
              "      <td>Readers asked Snopes to examine the accuracy a...</td>\n",
              "    </tr>\n",
              "    <tr>\n",
              "      <th>3</th>\n",
              "      <td>Pride Parade Fire Hydrant Mishap</td>\n",
              "      <td>An image depicts a man stabbed at an altercati...</td>\n",
              "      <td>An image depicts an overenthusiastic Pride att...</td>\n",
              "      <td>Miscaptioned</td>\n",
              "      <td>NaN</td>\n",
              "      <td>NaN</td>\n",
              "      <td>NaN</td>\n",
              "      <td>Yearly Pride festivities were marked on 26 Jun...</td>\n",
              "      <td>A Twitter user tweeted a photograph of a blood...</td>\n",
              "    </tr>\n",
              "    <tr>\n",
              "      <th>4</th>\n",
              "      <td>Swedish Police Hand Out ‘Don’t Touch Me’ Brace...</td>\n",
              "      <td>Police in Sweden have introduced sexual assaul...</td>\n",
              "      <td>Swedish police have introduced anti-sexual ass...</td>\n",
              "      <td>Mixture</td>\n",
              "      <td>Police in Sweden are distributing colored brac...</td>\n",
              "      <td>Swedish police did not create or distribute th...</td>\n",
              "      <td>NaN</td>\n",
              "      <td>On 30 June 2016, the Federalist Papers web sit...</td>\n",
              "      <td>Police in Sweden have come up with a sure-fire...</td>\n",
              "    </tr>\n",
              "  </tbody>\n",
              "</table>\n",
              "</div>"
            ],
            "text/plain": [
              "                                            question  \\\n",
              "0  Did Kamala Harris Support Abortion Until the T...   \n",
              "1         Did Hitler Invent the Inflatable Sex Doll?   \n",
              "2  Does Texting ‘RBG’ to 50409 Send a Letter to Y...   \n",
              "3                   Pride Parade Fire Hydrant Mishap   \n",
              "4  Swedish Police Hand Out ‘Don’t Touch Me’ Brace...   \n",
              "\n",
              "                                             comment  \\\n",
              "0  The Democratic vice-presidential candidate's p...   \n",
              "1  Nothing attracts curiosity like a lurid combin...   \n",
              "2  The automated political advocacy service Resis...   \n",
              "3  An image depicts a man stabbed at an altercati...   \n",
              "4  Police in Sweden have introduced sexual assaul...   \n",
              "\n",
              "                                               claim          rate  \\\n",
              "0  U.S. Sen. Kamala Harris, D-Calif., supports th...       Mixture   \n",
              "1  Adolf Hitler was behind the invention of the f...         False   \n",
              "2  Texting \"RBG\" to 50409 engages a service calle...          True   \n",
              "3  An image depicts an overenthusiastic Pride att...  Miscaptioned   \n",
              "4  Swedish police have introduced anti-sexual ass...       Mixture   \n",
              "\n",
              "                                         what's true  \\\n",
              "0  U.S. Sen. Kamala Harris, D-Calif, has maintain...   \n",
              "1                                                NaN   \n",
              "2                                                NaN   \n",
              "3                                                NaN   \n",
              "4  Police in Sweden are distributing colored brac...   \n",
              "\n",
              "                                        what's false what's unknown  \\\n",
              "0  She has not explicitly stated that she support...            NaN   \n",
              "1                                                NaN            NaN   \n",
              "2                                                NaN            NaN   \n",
              "3                                                NaN            NaN   \n",
              "4  Swedish police did not create or distribute th...            NaN   \n",
              "\n",
              "                                              origin  \\\n",
              "0  Debates surrounding abortion frequently resurf...   \n",
              "1  In late July 2020, readers shared a 2016 blog ...   \n",
              "2  In September 2020, following the death of U.S....   \n",
              "3  Yearly Pride festivities were marked on 26 Jun...   \n",
              "4  On 30 June 2016, the Federalist Papers web sit...   \n",
              "\n",
              "                                             summary  \n",
              "0  U.S. Sen. Kamala Harris, D-Calif., has been to...  \n",
              "1  Readers shared a 2016 blog post with the headl...  \n",
              "2  Readers asked Snopes to examine the accuracy a...  \n",
              "3  A Twitter user tweeted a photograph of a blood...  \n",
              "4  Police in Sweden have come up with a sure-fire...  "
            ]
          },
          "execution_count": 39,
          "metadata": {},
          "output_type": "execute_result"
        },
        {
          "name": "stdout",
          "output_type": "stream",
          "text": [
            "<class 'pandas.core.frame.DataFrame'>\n",
            "RangeIndex: 4550 entries, 0 to 4549\n",
            "Data columns (total 9 columns):\n",
            " #   Column          Non-Null Count  Dtype \n",
            "---  ------          --------------  ----- \n",
            " 0   question        4550 non-null   object\n",
            " 1   comment         4550 non-null   object\n",
            " 2   claim           4550 non-null   object\n",
            " 3   rate            4550 non-null   object\n",
            " 4   what's true     765 non-null    object\n",
            " 5   what's false    719 non-null    object\n",
            " 6   what's unknown  121 non-null    object\n",
            " 7   origin          4550 non-null   object\n",
            " 8   summary         4550 non-null   object\n",
            "dtypes: object(9)\n",
            "memory usage: 320.1+ KB\n",
            "Null values:\n"
          ]
        },
        {
          "data": {
            "text/plain": [
              "question             0\n",
              "comment              0\n",
              "claim                0\n",
              "rate                 0\n",
              "what's true       3785\n",
              "what's false      3831\n",
              "what's unknown    4429\n",
              "origin               0\n",
              "summary              0\n",
              "dtype: int64"
            ]
          },
          "execution_count": 39,
          "metadata": {},
          "output_type": "execute_result"
        },
        {
          "name": "stdout",
          "output_type": "stream",
          "text": [
            "Negative values:\n"
          ]
        },
        {
          "data": {
            "text/plain": [
              "Series([], dtype: float64)"
            ]
          },
          "execution_count": 39,
          "metadata": {},
          "output_type": "execute_result"
        }
      ],
      "source": [
        "# Load datataset Snopes Fact-news Data\n",
        "## Repo Link\n",
        "#snopes=pd.read_csv('https://raw.githubusercontent.com/JaimeFerreira2002/Truthify/refs/heads/main/Datasets/snopeswithsum.csv')\n",
        "## Locally/Codespaces\n",
        "snopes=pd.read_csv(os.path.join('Datasets','snopeswithsum.csv'))\n",
        "\n",
        "snopes.head(5)\n",
        "snopes.info()\n",
        "print(\"Null values:\")\n",
        "snopes.isnull().sum()\n",
        "# drop all object type (strings), and check for any negative value\n",
        "print(\"Negative values:\")\n",
        "(snopes.select_dtypes(exclude=['object']) < 0).sum()"
      ]
    }
  ],
  "metadata": {
    "colab": {
      "provenance": []
    },
    "kernelspec": {
      "display_name": "jupyter-env",
      "language": "python",
      "name": "python3"
    },
    "language_info": {
      "codemirror_mode": {
        "name": "ipython",
        "version": 3
      },
      "file_extension": ".py",
      "mimetype": "text/x-python",
      "name": "python",
      "nbconvert_exporter": "python",
      "pygments_lexer": "ipython3",
      "version": "3.12.8"
    }
  },
  "nbformat": 4,
  "nbformat_minor": 0
}
